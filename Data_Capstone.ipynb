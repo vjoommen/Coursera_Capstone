{
 "cells": [
  {
   "cell_type": "markdown",
   "metadata": {},
   "source": [
    "# Data"
   ]
  },
  {
   "cell_type": "markdown",
   "metadata": {},
   "source": [
    "Data Accquiration:\n",
    "* The neighborhood data of New York is provided here: https://geo.nyu.edu/catalog/nyu_2451_34572\n",
    "* The neighborhood data of Toronto is extracted from here: https://en.wikipedia.org/wiki/List_of_postal_codes_of_Canada:_M\n",
    "* The neighborhood data of Beijing is extracted from Wikipedia: https://en.wikipedia.org/wiki/List_of_township-level_divisions_of_Shanghai\n",
    "* The neighborhood data of Shanghai is from: https://en.wikipedia.org/wiki/List_of_township-level_divisions_of_Beijing\n",
    "\n",
    "Data Preparataion:\n",
    "* The actural location (latitude and longitude) of each neighborhood is obtained by Nominatim package.\n",
    "* I will use Foursquare location data to extracted the nearby venues of each neighborhood.\n",
    "\n",
    "Data Analysis:\n",
    "1. Only the venues name and venues category (i.e. cafe, restaurant, school, etc.) will be used.\n",
    "2. Find the top 10 most frequent venues category for each neighborhood.\n",
    "3. According to the most frequest venues category, I will apply hierarchical agglomerative clustering method to compare neighborhoods among cities."
   ]
  },
  {
   "cell_type": "code",
   "execution_count": null,
   "metadata": {},
   "outputs": [],
   "source": []
  }
 ],
 "metadata": {
  "kernelspec": {
   "display_name": "Python 3",
   "language": "python",
   "name": "python3"
  },
  "language_info": {
   "codemirror_mode": {
    "name": "ipython",
    "version": 3
   },
   "file_extension": ".py",
   "mimetype": "text/x-python",
   "name": "python",
   "nbconvert_exporter": "python",
   "pygments_lexer": "ipython3",
   "version": "3.6.5"
  }
 },
 "nbformat": 4,
 "nbformat_minor": 2
}
