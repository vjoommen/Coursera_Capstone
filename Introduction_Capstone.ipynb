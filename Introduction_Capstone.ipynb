{
 "cells": [
  {
   "cell_type": "markdown",
   "metadata": {},
   "source": [
    "# Introduction"
   ]
  },
  {
   "cell_type": "markdown",
   "metadata": {},
   "source": [
    "Human migration is the movement by people from one place to another with the intentions of settling, permanently or temporarily in a new location. Early human migratations are usually result of climate change. Though the climate change is no longer severere in modern societies, there are still a number of causes impel migrants to move to another country. Globalization is one of the reasons people move to new places for better job opportunities. The following example of economic migrants is quoted from Wikipedia:\n",
    "\n",
    "Globalization has increased the demand for workers in order to sustain national economies. Thus one category of economic migrants - generally from impoverished developing countries - migrates to obtain sufficient income for survival. Such migrants often send some of their income home to family members in the form of economic remittances, which have become an economic staple in a number of developing countries.\n",
    "\n",
    "Migration is a huge event for most migrants. In addition to searching for new accomodation and new job, migrates also need to overcome culture shocks during settle down. In order to have a smooth transfer in the new city, it is very desirable to move to a similar neighborhood as where migrants live before. For example, a coffee lover who usually needs a cup of coffee every morning from Starbucks a block away will prefer a place with a cafe nearby. I would like to use the Foursquare location data to analysis the neighborhoods of four different cities New York, Toronto, Beijing and Shanghai. These cites are the economic or political center of the countries. I wish to find similar neighborhoods among these cities and provide some useful information for peple who are considering moving among Canada, USA and China."
   ]
  }
 ],
 "metadata": {
  "kernelspec": {
   "display_name": "Python 3",
   "language": "python",
   "name": "python3"
  },
  "language_info": {
   "codemirror_mode": {
    "name": "ipython",
    "version": 3
   },
   "file_extension": ".py",
   "mimetype": "text/x-python",
   "name": "python",
   "nbconvert_exporter": "python",
   "pygments_lexer": "ipython3",
   "version": "3.6.5"
  }
 },
 "nbformat": 4,
 "nbformat_minor": 2
}
